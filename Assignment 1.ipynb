{
 "cells": [
  {
   "cell_type": "code",
   "execution_count": null,
   "id": "af5df265-5768-4384-be44-e4bdb9e8284d",
   "metadata": {},
   "outputs": [],
   "source": [
    "# Q1 Guido van Rossum developed python in 1991"
   ]
  },
  {
   "cell_type": "code",
   "execution_count": null,
   "id": "b721a2b8-e39b-4609-8848-b1567de1d54f",
   "metadata": {},
   "outputs": [],
   "source": [
    "# Q2 python supports structured programming and object-oriented programming"
   ]
  },
  {
   "cell_type": "code",
   "execution_count": null,
   "id": "46e48b1e-8b92-4ab6-886b-47cf2c9c4971",
   "metadata": {},
   "outputs": [],
   "source": [
    "# Q3 YES, python is case sensitive language while dealing with identifier"
   ]
  },
  {
   "cell_type": "code",
   "execution_count": null,
   "id": "e576ae63-a5b6-4432-8392-b28f4ff39c8c",
   "metadata": {},
   "outputs": [],
   "source": [
    "# Q4 The correct file extension for Python files is .py"
   ]
  },
  {
   "cell_type": "code",
   "execution_count": null,
   "id": "9049d830-9c29-4c62-ab36-7e1eaa38e562",
   "metadata": {},
   "outputs": [],
   "source": [
    "# Q5 Python code is a interpreted "
   ]
  },
  {
   "cell_type": "code",
   "execution_count": null,
   "id": "f598b2ba-d3a6-46d5-ac7b-8ad49edf1e1f",
   "metadata": {},
   "outputs": [],
   "source": [
    "# Q6 Function body, if statement, Else statement, For loop body, While loop body"
   ]
  },
  {
   "cell_type": "code",
   "execution_count": null,
   "id": "2f2a9e9c-f463-4521-94a4-01e1cb152f87",
   "metadata": {},
   "outputs": [],
   "source": [
    "# Q7 \"#\" is used to give single line comment in python"
   ]
  },
  {
   "cell_type": "code",
   "execution_count": null,
   "id": "180db899-ec21-4939-b114-04bf0b1a3bde",
   "metadata": {},
   "outputs": [],
   "source": [
    "# Q8 sys.version"
   ]
  },
  {
   "cell_type": "code",
   "execution_count": null,
   "id": "078e84d1-d1d2-4cf3-9a2b-10fff635ca1b",
   "metadata": {},
   "outputs": [],
   "source": [
    "# Q9 lambda"
   ]
  },
  {
   "cell_type": "code",
   "execution_count": null,
   "id": "f77268fa-1847-4b4b-ad77-d3baac39066c",
   "metadata": {},
   "outputs": [],
   "source": [
    "# Q10 Preffered installer program"
   ]
  },
  {
   "cell_type": "code",
   "execution_count": null,
   "id": "02af0a96-4746-4ed0-b80e-d77d982dda44",
   "metadata": {},
   "outputs": [],
   "source": [
    "# Q11 list(), int(), float(), all(), any(), type(), sum()"
   ]
  },
  {
   "cell_type": "code",
   "execution_count": null,
   "id": "a617444a-0093-4403-87f7-59a32b11ae64",
   "metadata": {},
   "outputs": [],
   "source": [
    "# Q12 79"
   ]
  },
  {
   "cell_type": "code",
   "execution_count": null,
   "id": "da9e42cb-d096-4e31-9cea-04186f6888a9",
   "metadata": {},
   "outputs": [],
   "source": [
    "# Q13 Python programming language is a general-purpose, interpreted, and high-level language that mainly offers code readability.\n"
   ]
  },
  {
   "cell_type": "code",
   "execution_count": null,
   "id": "f806912a-c415-49e7-a863-75c5256d205a",
   "metadata": {},
   "outputs": [],
   "source": [
    "# Q14 Memory management in Python involves a private heap containing all Python objects and data structures.\n"
   ]
  },
  {
   "cell_type": "code",
   "execution_count": null,
   "id": "9eb0afab-808e-4d88-af47-91ace7d1ea1f",
   "metadata": {},
   "outputs": [],
   "source": [
    "# Q15 The complete path of python.exe can be added by:Right-clicking This PC and going to Properties.Clicking on the Advanced system settings in the menu on the left.Clicking on the Environment Variables button o​n the bottom right.In the System variables section, selecting the Path variable and clicking on Edit.\n"
   ]
  },
  {
   "cell_type": "code",
   "execution_count": null,
   "id": "6e8f584d-0325-42ee-8eb2-92757038d22a",
   "metadata": {},
   "outputs": [],
   "source": [
    "# Q16 yes indentation is required"
   ]
  }
 ],
 "metadata": {
  "kernelspec": {
   "display_name": "Python 3 (ipykernel)",
   "language": "python",
   "name": "python3"
  },
  "language_info": {
   "codemirror_mode": {
    "name": "ipython",
    "version": 3
   },
   "file_extension": ".py",
   "mimetype": "text/x-python",
   "name": "python",
   "nbconvert_exporter": "python",
   "pygments_lexer": "ipython3",
   "version": "3.10.8"
  }
 },
 "nbformat": 4,
 "nbformat_minor": 5
}
