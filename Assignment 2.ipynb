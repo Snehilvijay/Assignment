{
 "cells": [
  {
   "cell_type": "raw",
   "id": "d9424fa6-6e7d-4fb2-bf57-ae704eda6c81",
   "metadata": {},
   "source": [
    "Q 1 Program to accept percentage from user and display grade"
   ]
  },
  {
   "cell_type": "code",
   "execution_count": null,
   "id": "00ddb9ea-4d34-4a20-b217-0bd9801375be",
   "metadata": {},
   "outputs": [
    {
     "name": "stdin",
     "output_type": "stream",
     "text": [
      "Enter Marks of Student:  97\n"
     ]
    },
    {
     "name": "stdout",
     "output_type": "stream",
     "text": [
      "your grade is A\n"
     ]
    }
   ],
   "source": [
    "marks=int(input(\"Enter Marks of Student: \"))\n",
    "if marks>90:\n",
    "    print(\"your grade is A\")\n",
    "elif 90>=marks>80:\n",
    "    print(\"your grade is B\")\n",
    "elif 80>=marks>=60:\n",
    "    print(\"your grade is C\")\n",
    "else:\n",
    "    print(\"your grade is D\")\n",
    "    \n",
    "    "
   ]
  },
  {
   "cell_type": "raw",
   "id": "cdb7c0ff-31f2-471a-b0db-a97e50f5a44f",
   "metadata": {},
   "source": [
    "Q 2 Program to accept cost of price and display tax"
   ]
  },
  {
   "cell_type": "code",
   "execution_count": 4,
   "id": "34f39559-a817-496d-8455-022cdd097660",
   "metadata": {},
   "outputs": [
    {
     "name": "stdin",
     "output_type": "stream",
     "text": [
      "Enter Cost of Bike:  56000\n"
     ]
    },
    {
     "name": "stdout",
     "output_type": "stream",
     "text": [
      "Tax is 10%\n"
     ]
    }
   ],
   "source": [
    "cost=int(input(\"Enter Cost of Bike: \"))\n",
    "if cost>100000:\n",
    "    print(\"Tax is 15%\")\n",
    "elif 100000>=cost>50000:\n",
    "    print(\"Tax is 10%\")\n",
    "else:\n",
    "    print(\"Tax is 5%\")\n"
   ]
  },
  {
   "cell_type": "raw",
   "id": "1e1f50b7-ddf0-48d6-8143-69868796917b",
   "metadata": {},
   "source": [
    "Q 3 program to accept city and show monument"
   ]
  },
  {
   "cell_type": "code",
   "execution_count": 9,
   "id": "69e1d4bd-82c1-427f-bc31-4b7e49884d95",
   "metadata": {},
   "outputs": [
    {
     "name": "stdin",
     "output_type": "stream",
     "text": [
      "Enter city:  viksha\n"
     ]
    },
    {
     "name": "stdout",
     "output_type": "stream",
     "text": [
      "Please Enter either Agra, Jaipur or Delhi\n"
     ]
    }
   ],
   "source": [
    "city=input(\"Enter city: \")\n",
    "if city.lower()=='agra':\n",
    "    print(\"Monument in \",city,'is Taj Mahal')\n",
    "elif city.lower()=='jaipur':\n",
    "    print(\"Monument in \",city,'is Jal Mahal')\n",
    "elif city.lower()=='delhi':\n",
    "    print(\"Monument in \",city,'is Red Fort')\n",
    "else:\n",
    "    print(\"Please Enter either Agra, Jaipur or Delhi\")"
   ]
  },
  {
   "cell_type": "raw",
   "id": "4a580361-de3b-4e5d-ace8-be4464822a31",
   "metadata": {},
   "source": [
    "Q 4 How many times a number can be divided before it is less than or equal to 10"
   ]
  },
  {
   "cell_type": "code",
   "execution_count": 15,
   "id": "00ba2133-4c59-4ff7-aba0-5b2d16b65127",
   "metadata": {},
   "outputs": [
    {
     "name": "stdin",
     "output_type": "stream",
     "text": [
      "Enter any number:  356568434757456345\n"
     ]
    },
    {
     "name": "stdout",
     "output_type": "stream",
     "text": [
      "This number can be divided  35  times before it is less than or equal to 10\n"
     ]
    }
   ],
   "source": [
    "numb=int(input(\"Enter any number: \"))\n",
    "count=0\n",
    "while numb>10:\n",
    "    numb/=3\n",
    "    count+=1\n",
    "print('This number can be divided ',count,' times before it is less than or equal to 10')"
   ]
  },
  {
   "cell_type": "raw",
   "id": "31966eee-df54-45c3-9d8c-3b03bad464c5",
   "metadata": {},
   "source": [
    "Q 5 Why and When to use While Loop in python"
   ]
  },
  {
   "cell_type": "raw",
   "id": "d18cf1a6-135c-4893-af1a-5f6b740a5ea9",
   "metadata": {},
   "source": [
    "Ans: While loop executes the code until a certain condition is met true. While loop is to be used when we are not sure about how many times a loop is to be executed. For example, in the above question we do not know a number of times this loop has to be executed therefore we used while loop."
   ]
  },
  {
   "cell_type": "raw",
   "id": "87f25575-447a-4704-8fb8-ed929f998c3a",
   "metadata": {},
   "source": [
    "Q 6 Nested while loop to print 3 different pattern"
   ]
  },
  {
   "cell_type": "code",
   "execution_count": 26,
   "id": "2c01c15e-3d90-4426-97be-06b26e36906a",
   "metadata": {},
   "outputs": [
    {
     "name": "stdin",
     "output_type": "stream",
     "text": [
      "Enter number of rows to be printed:  5\n"
     ]
    },
    {
     "name": "stdout",
     "output_type": "stream",
     "text": [
      "* * * * * \n",
      "* * * * * \n",
      "* * * * * \n",
      "* * * * * \n",
      "* * * * * \n"
     ]
    }
   ],
   "source": [
    "#PATTERN 1\n",
    "row=int(input(\"Enter number of rows to be printed: \"))\n",
    "i=0\n",
    "while i<row:\n",
    "    j=0\n",
    "    while j<row:\n",
    "        print('*',end=' ')\n",
    "        j+=1\n",
    "    i+=1\n",
    "    print()"
   ]
  },
  {
   "cell_type": "code",
   "execution_count": 28,
   "id": "a5421850-7acf-4f5a-8b5d-e83dd157cc61",
   "metadata": {},
   "outputs": [
    {
     "name": "stdin",
     "output_type": "stream",
     "text": [
      "Enter number of rows to be printed:  5\n"
     ]
    },
    {
     "name": "stdout",
     "output_type": "stream",
     "text": [
      "* \n",
      "* * \n",
      "* * * \n",
      "* * * * \n",
      "* * * * * \n"
     ]
    }
   ],
   "source": [
    "#PATTERN 2\n",
    "row=int(input(\"Enter number of rows to be printed: \"))\n",
    "i=0\n",
    "while i<row:\n",
    "    j=0\n",
    "    while j<=i:\n",
    "        print('*',end=' ')\n",
    "        j+=1\n",
    "    i+=1\n",
    "    print()"
   ]
  },
  {
   "cell_type": "code",
   "execution_count": 30,
   "id": "91b12be0-67e7-4e96-b907-948d277f920c",
   "metadata": {},
   "outputs": [
    {
     "name": "stdin",
     "output_type": "stream",
     "text": [
      "Enter number of rows to be printed:  5\n"
     ]
    },
    {
     "name": "stdout",
     "output_type": "stream",
     "text": [
      "* * * * * \n",
      "  * * * * \n",
      "    * * * \n",
      "      * * \n",
      "        * \n"
     ]
    }
   ],
   "source": [
    "#PATTERN 3\n",
    "row=int(input(\"Enter number of rows to be printed: \"))\n",
    "i=0\n",
    "while i<row:\n",
    "    j=0\n",
    "    while j<row:\n",
    "        if j>=i:\n",
    "            print('*',end=' ')\n",
    "        else:\n",
    "            print(' ',end=' ')\n",
    "        j+=1\n",
    "    i+=1\n",
    "    print()"
   ]
  },
  {
   "cell_type": "raw",
   "id": "86004abc-2b58-43d8-a6d8-22689c1f3e1b",
   "metadata": {},
   "source": [
    "Q 7 Reverse while loop to display number 10 to 1"
   ]
  },
  {
   "cell_type": "code",
   "execution_count": 31,
   "id": "797b8944-243d-47c3-a856-9ac81234238f",
   "metadata": {},
   "outputs": [
    {
     "name": "stdout",
     "output_type": "stream",
     "text": [
      "10\n",
      "9\n",
      "8\n",
      "7\n",
      "6\n",
      "5\n",
      "4\n",
      "3\n",
      "2\n",
      "1\n"
     ]
    }
   ],
   "source": [
    "i=10\n",
    "while i>0:\n",
    "    print(i)\n",
    "    i-=1"
   ]
  },
  {
   "cell_type": "raw",
   "id": "a1a04200-2a87-4269-be99-72f2be2c23cf",
   "metadata": {},
   "source": [
    "Q 8 Reverse for loop to display number 10 to 1"
   ]
  },
  {
   "cell_type": "code",
   "execution_count": 1,
   "id": "c4f8d8ba-db5b-41bd-81e2-85f7626124c7",
   "metadata": {},
   "outputs": [
    {
     "name": "stdout",
     "output_type": "stream",
     "text": [
      "10\n",
      "9\n",
      "8\n",
      "7\n",
      "6\n",
      "5\n",
      "4\n",
      "3\n",
      "2\n",
      "1\n"
     ]
    }
   ],
   "source": [
    "for i in range(10):\n",
    "    print(10-i)"
   ]
  },
  {
   "cell_type": "code",
   "execution_count": null,
   "id": "57c957e4-5c65-4525-9e82-dd8dd600c52d",
   "metadata": {},
   "outputs": [],
   "source": []
  },
  {
   "cell_type": "code",
   "execution_count": null,
   "id": "58f68590-5bbc-444d-ab77-92e0ec354c27",
   "metadata": {},
   "outputs": [],
   "source": []
  },
  {
   "cell_type": "code",
   "execution_count": null,
   "id": "26362ee2-112d-43be-b706-346e94c3c283",
   "metadata": {},
   "outputs": [],
   "source": []
  }
 ],
 "metadata": {
  "kernelspec": {
   "display_name": "Python 3 (ipykernel)",
   "language": "python",
   "name": "python3"
  },
  "language_info": {
   "codemirror_mode": {
    "name": "ipython",
    "version": 3
   },
   "file_extension": ".py",
   "mimetype": "text/x-python",
   "name": "python",
   "nbconvert_exporter": "python",
   "pygments_lexer": "ipython3",
   "version": "3.10.8"
  }
 },
 "nbformat": 4,
 "nbformat_minor": 5
}
