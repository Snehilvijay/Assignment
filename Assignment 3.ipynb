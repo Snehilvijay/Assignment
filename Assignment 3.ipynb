{
 "cells": [
  {
   "cell_type": "code",
   "execution_count": null,
   "id": "7b92a962-c4eb-4aa1-a398-3b3e7c96de16",
   "metadata": {},
   "outputs": [],
   "source": [
    "# Q1 Explain with an example each when to use a for loop and a while loop."
   ]
  },
  {
   "cell_type": "code",
   "execution_count": null,
   "id": "90459f59-8a14-4fcb-b0b7-1d8201592d12",
   "metadata": {},
   "outputs": [],
   "source": [
    "# Ans When we number of times a loop is to be executed then we use for loop and when we dont know the number of times loop will run and want to break the loop when condition is satisfied then we use while loop."
   ]
  },
  {
   "cell_type": "code",
   "execution_count": 14,
   "id": "097afc7b-6141-481f-8513-a369a39391c1",
   "metadata": {},
   "outputs": [
    {
     "name": "stdout",
     "output_type": "stream",
     "text": [
      "1 2 3 4 5 6 7 8 9 10 "
     ]
    },
    {
     "name": "stdin",
     "output_type": "stream",
     "text": [
      "Enter any number:  45\n"
     ]
    },
    {
     "name": "stdout",
     "output_type": "stream",
     "text": [
      "This number can be divided  2  times before it is less than or equal to 10\n"
     ]
    }
   ],
   "source": [
    "#for ex:\n",
    "#we want to print 1st 10 natural numbers ----> we know loop will run 10 times\n",
    "for i in range(1,11):\n",
    "    print(i,end=' ')\n",
    "# we want to know how many times a number can be divided by 3 before number becomes less than 10--------> we do not know number of times loop to be executed\n",
    "numb=int(input(\"Enter any number: \"))\n",
    "count=0\n",
    "while numb>10:\n",
    "    numb/=3\n",
    "    count+=1\n",
    "print('This number can be divided ',count,' times before it is less than or equal to 10')\n",
    "\n"
   ]
  },
  {
   "cell_type": "code",
   "execution_count": null,
   "id": "fc0a2b20-04a6-472d-83c6-98eab37fc9c2",
   "metadata": {},
   "outputs": [],
   "source": []
  },
  {
   "cell_type": "code",
   "execution_count": null,
   "id": "22d0c8c3-b4c3-4632-8d6f-e4ce48c4fbc8",
   "metadata": {},
   "outputs": [],
   "source": [
    "# Q2 Program to print sum and product of 1st 10 natural number using while loop and for loop"
   ]
  },
  {
   "cell_type": "code",
   "execution_count": 2,
   "id": "27c98c5a-e1c1-4398-9fb0-03fd77172656",
   "metadata": {},
   "outputs": [
    {
     "name": "stdout",
     "output_type": "stream",
     "text": [
      "sum of numbers is:  55\n",
      "product of numbers is:  3628800\n"
     ]
    }
   ],
   "source": [
    "# Using FOR loop\n",
    "total=0\n",
    "product=1\n",
    "for i in range(1,11):\n",
    "    total=total+i\n",
    "    product=i*product\n",
    "print('sum of numbers is: ',total)\n",
    "print('product of numbers is: ',product)"
   ]
  },
  {
   "cell_type": "code",
   "execution_count": 3,
   "id": "31475a99-759e-4236-9a7c-4fc77ac97ed6",
   "metadata": {},
   "outputs": [
    {
     "name": "stdout",
     "output_type": "stream",
     "text": [
      "sum of numbers is:  55\n",
      "product of numbers is:  3628800\n"
     ]
    }
   ],
   "source": [
    "# Using WHILE loop\n",
    "total=0\n",
    "product=1\n",
    "i=1\n",
    "while i<=10:\n",
    "    total=total+i\n",
    "    product=i*product\n",
    "    i+=1\n",
    "print('sum of numbers is: ',total)\n",
    "print('product of numbers is: ',product)"
   ]
  },
  {
   "cell_type": "code",
   "execution_count": null,
   "id": "5789768e-02df-4eb6-99bd-b59110ab0d3a",
   "metadata": {},
   "outputs": [],
   "source": [
    "# Q3. Create a python program to compute the electricity bill for a household. The per-unit charges in rupees are as follows: For the first 100 units, the user will be charged Rs. 4.5 per unit, for the next 100 units, the user will be charged Rs. 6 per unit, and for the next 100 units, the user willbe charged Rs. 10 per unit, After 300 units and above the user will be charged Rs. 20 per unit."
   ]
  },
  {
   "cell_type": "code",
   "execution_count": 3,
   "id": "7ebe809b-08c6-411c-b5bc-66e95014a586",
   "metadata": {},
   "outputs": [
    {
     "name": "stdin",
     "output_type": "stream",
     "text": [
      "Enter number of units:  310\n"
     ]
    },
    {
     "name": "stdout",
     "output_type": "stream",
     "text": [
      "Your total bill for  310  unit is  2250.0\n"
     ]
    }
   ],
   "source": [
    "unit=int(input('Enter number of units: '))\n",
    "if unit<=100:\n",
    "    bill=4.5*unit\n",
    "elif 100<unit<=200:\n",
    "    bill=4.5*100+6*(unit-100)\n",
    "elif 200<unit<=300:\n",
    "    bill=4.5*100+6*100+10*(unit-200)\n",
    "else:\n",
    "    bill=4.5*100+6*100+10*100+20*(unit-300)\n",
    "print('Your total bill for ',unit,' unit is ',bill)"
   ]
  },
  {
   "cell_type": "code",
   "execution_count": null,
   "id": "d6583297-7485-48af-8509-5ae05a9c4cc0",
   "metadata": {},
   "outputs": [],
   "source": [
    "#Q4. Create a list of numbers from 1 to 100. Use for loop and while loop to calculate the cube of each number and if the cube of that number is divisible by 4 or 5 then append that number in a list and printthat list."
   ]
  },
  {
   "cell_type": "code",
   "execution_count": 7,
   "id": "efe4e6ca-4304-42d9-951d-4fe97db1f70a",
   "metadata": {},
   "outputs": [
    {
     "name": "stdout",
     "output_type": "stream",
     "text": [
      "[1, 8, 27, 64, 125, 216, 343, 512, 729, 1000, 1331, 1728, 2197, 2744, 3375, 4096, 4913, 5832, 6859, 8000, 9261, 10648, 12167, 13824, 15625, 17576, 19683, 21952, 24389, 27000, 29791, 32768, 35937, 39304, 42875, 46656, 50653, 54872, 59319, 64000, 68921, 74088, 79507, 85184, 91125, 97336, 103823, 110592, 117649, 125000, 132651, 140608, 148877, 157464, 166375, 175616, 185193, 195112, 205379, 216000, 226981, 238328, 250047, 262144, 274625, 287496, 300763, 314432, 328509, 343000, 357911, 373248, 389017, 405224, 421875, 438976, 456533, 474552, 493039, 512000, 531441, 551368, 571787, 592704, 614125, 636056, 658503, 681472, 704969, 729000, 753571, 778688, 804357, 830584, 857375, 884736, 912673, 941192, 970299, 1000000]\n",
      "[8, 64, 125, 216, 512, 1000, 1728, 2744, 3375, 4096, 5832, 8000, 10648, 13824, 15625, 17576, 21952, 27000, 32768, 39304, 42875, 46656, 54872, 64000, 74088, 85184, 91125, 97336, 110592, 125000, 140608, 157464, 166375, 175616, 195112, 216000, 238328, 262144, 274625, 287496, 314432, 343000, 373248, 405224, 421875, 438976, 474552, 512000, 551368, 592704, 614125, 636056, 681472, 729000, 778688, 830584, 857375, 884736, 941192, 1000000]\n"
     ]
    }
   ],
   "source": [
    "l=[]\n",
    "l1=[]\n",
    "for i in range(1,101):\n",
    "    l.append(i**3)\n",
    "    if (i**3)%4==0 or (i**3)%5==0:\n",
    "        l1.append(i**3)\n",
    "print(l)\n",
    "print(l1)"
   ]
  },
  {
   "cell_type": "code",
   "execution_count": 8,
   "id": "17a459d2-9cac-4f16-a239-536f975f0eb2",
   "metadata": {},
   "outputs": [
    {
     "name": "stdout",
     "output_type": "stream",
     "text": [
      "[0, 1, 8, 27, 64, 125, 216, 343, 512, 729, 1000, 1331, 1728, 2197, 2744, 3375, 4096, 4913, 5832, 6859, 8000, 9261, 10648, 12167, 13824, 15625, 17576, 19683, 21952, 24389, 27000, 29791, 32768, 35937, 39304, 42875, 46656, 50653, 54872, 59319, 64000, 68921, 74088, 79507, 85184, 91125, 97336, 103823, 110592, 117649, 125000, 132651, 140608, 148877, 157464, 166375, 175616, 185193, 195112, 205379, 216000, 226981, 238328, 250047, 262144, 274625, 287496, 300763, 314432, 328509, 343000, 357911, 373248, 389017, 405224, 421875, 438976, 456533, 474552, 493039, 512000, 531441, 551368, 571787, 592704, 614125, 636056, 658503, 681472, 704969, 729000, 753571, 778688, 804357, 830584, 857375, 884736, 912673, 941192, 970299, 1000000]\n",
      "[0, 8, 64, 125, 216, 512, 1000, 1728, 2744, 3375, 4096, 5832, 8000, 10648, 13824, 15625, 17576, 21952, 27000, 32768, 39304, 42875, 46656, 54872, 64000, 74088, 85184, 91125, 97336, 110592, 125000, 140608, 157464, 166375, 175616, 195112, 216000, 238328, 262144, 274625, 287496, 314432, 343000, 373248, 405224, 421875, 438976, 474552, 512000, 551368, 592704, 614125, 636056, 681472, 729000, 778688, 830584, 857375, 884736, 941192, 1000000]\n"
     ]
    }
   ],
   "source": [
    "l=[]\n",
    "l1=[]\n",
    "i=0\n",
    "while i<=100:\n",
    "    l.append(i**3)\n",
    "    if (i**3)%4==0 or (i**3)%5==0:\n",
    "        l1.append(i**3)\n",
    "    i+=1\n",
    "print(l)\n",
    "print(l1)"
   ]
  },
  {
   "cell_type": "code",
   "execution_count": null,
   "id": "971d0553-5a65-4553-b052-45446d49eb70",
   "metadata": {},
   "outputs": [],
   "source": [
    "#Q5. Write a program to filter count vowels in the below-given string.\n",
    "#string = \"I want to become a data scientist\""
   ]
  },
  {
   "cell_type": "code",
   "execution_count": 10,
   "id": "08ac8143-8667-49ae-8c53-60803db45c55",
   "metadata": {},
   "outputs": [
    {
     "name": "stdout",
     "output_type": "stream",
     "text": [
      "['i', 'a', 'o', 'e', 'o', 'e', 'a', 'a', 'a', 'i', 'e', 'i']\n",
      "12\n"
     ]
    }
   ],
   "source": [
    "s=\"I want to become a data scientist\"\n",
    "count=0\n",
    "s1=[]\n",
    "for i in s.lower():\n",
    "    if i in ['a','e','i','o','u']:\n",
    "        s1.append(i)\n",
    "        count+=1\n",
    "print(s1)\n",
    "print(count)"
   ]
  },
  {
   "cell_type": "code",
   "execution_count": null,
   "id": "17025966-a7f0-4bb7-8f7a-b0e72ef293b6",
   "metadata": {},
   "outputs": [],
   "source": []
  },
  {
   "cell_type": "code",
   "execution_count": null,
   "id": "2a19c7ab-705b-41d5-be21-5800861c04f4",
   "metadata": {},
   "outputs": [],
   "source": []
  },
  {
   "cell_type": "code",
   "execution_count": null,
   "id": "fe4ac618-a290-4ca3-aea7-877dfae844e4",
   "metadata": {},
   "outputs": [],
   "source": []
  },
  {
   "cell_type": "code",
   "execution_count": null,
   "id": "5a5ca4be-6a13-4fb7-9fcf-77c77c29a97f",
   "metadata": {},
   "outputs": [],
   "source": []
  },
  {
   "cell_type": "code",
   "execution_count": null,
   "id": "16f86155-9efe-4e91-b23b-92c85702030a",
   "metadata": {},
   "outputs": [],
   "source": []
  },
  {
   "cell_type": "code",
   "execution_count": null,
   "id": "55731678-913e-421e-a6f3-bb5379744dea",
   "metadata": {},
   "outputs": [],
   "source": []
  }
 ],
 "metadata": {
  "kernelspec": {
   "display_name": "Python 3 (ipykernel)",
   "language": "python",
   "name": "python3"
  },
  "language_info": {
   "codemirror_mode": {
    "name": "ipython",
    "version": 3
   },
   "file_extension": ".py",
   "mimetype": "text/x-python",
   "name": "python",
   "nbconvert_exporter": "python",
   "pygments_lexer": "ipython3",
   "version": "3.10.8"
  }
 },
 "nbformat": 4,
 "nbformat_minor": 5
}
