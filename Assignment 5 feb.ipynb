{
 "cells": [
  {
   "cell_type": "code",
   "execution_count": null,
   "id": "87ba74ba-825c-4405-8c52-1123233843a9",
   "metadata": {},
   "outputs": [],
   "source": [
    "#Q1. Explain Class and Object with respect to Object-Oriented Programming. Give a suitable example."
   ]
  },
  {
   "cell_type": "code",
   "execution_count": 5,
   "id": "0f419f37-518b-4a02-843b-2606a426d28e",
   "metadata": {},
   "outputs": [
    {
     "name": "stdout",
     "output_type": "stream",
     "text": [
      "welcome\n"
     ]
    }
   ],
   "source": [
    "\"\"\"Class: It is a skeleton or blueprint of programme. It can be said as the classification of real world entity, but not specific to real world entity.\n",
    "Object: It is specific to real world entity. it is instance or variable of class.\"\"\"\n",
    "#Example\n",
    "class pwskills: #pwskills is a class\n",
    "    def welcome_msg (self):\n",
    "        print(\"welcome\")\n",
    "snehil=pwskills() #snehil is the object or instance or variable of class pwskills\n",
    "snehil.welcome_msg()"
   ]
  },
  {
   "cell_type": "code",
   "execution_count": null,
   "id": "801f4eb9-e2ec-4f4b-9027-da1549a10622",
   "metadata": {},
   "outputs": [],
   "source": [
    "#Q2. Name the four pillars of OOPs."
   ]
  },
  {
   "cell_type": "code",
   "execution_count": null,
   "id": "5a936d96-d0e9-401e-9368-7a3e360c0e9c",
   "metadata": {},
   "outputs": [],
   "source": [
    "\"\"\"Answer: Abstraction, Encapsulation, Inheritance, and Polymorphism.\"\"\""
   ]
  },
  {
   "cell_type": "code",
   "execution_count": null,
   "id": "57a8d2c4-6ce3-499b-9b98-6fc9a5edda0f",
   "metadata": {},
   "outputs": [],
   "source": [
    "#Q3. Explain why the __init__() function is used. Give a suitable example."
   ]
  },
  {
   "cell_type": "code",
   "execution_count": 6,
   "id": "30c26160-1fa5-4c19-9396-ae7da33205bc",
   "metadata": {},
   "outputs": [
    {
     "data": {
      "text/plain": [
       "'Data science masters'"
      ]
     },
     "execution_count": 6,
     "metadata": {},
     "output_type": "execute_result"
    }
   ],
   "source": [
    "\"\"\" Answer: __init__() function is constructor. used to pass data specific for objects.The method is useful to do any initialization you want to do with your object.\"\"\"\n",
    "#Example\n",
    "\n",
    "class pwskills2:\n",
    " \n",
    "    # init method or constructor\n",
    "    def __init__(self, course):\n",
    "        self.course = course\n",
    " \n",
    "    def course_name(self):\n",
    "        return self.course\n",
    " \n",
    " \n",
    "p = pwskills2('Data science masters')\n",
    "p.course_name()"
   ]
  },
  {
   "cell_type": "code",
   "execution_count": null,
   "id": "862a36fb-f735-4d47-b20e-37ea3b7c779f",
   "metadata": {},
   "outputs": [],
   "source": [
    "#Q4. Why self is used in OOPs?"
   ]
  },
  {
   "cell_type": "code",
   "execution_count": null,
   "id": "1cce1d03-31f0-4d9e-9c28-ea4045be9332",
   "metadata": {},
   "outputs": [],
   "source": [
    "\"\"\" Self is assigned to connect object with class, It acts as a pointer\"\"\""
   ]
  },
  {
   "cell_type": "code",
   "execution_count": null,
   "id": "669dc94a-115a-429f-8ae0-5e896d105832",
   "metadata": {},
   "outputs": [],
   "source": [
    "#Q5. What is inheritance? Give an example for each type of inheritance."
   ]
  },
  {
   "cell_type": "code",
   "execution_count": 10,
   "id": "992b19a6-f9a9-4b32-9633-33e81755c3b9",
   "metadata": {},
   "outputs": [
    {
     "data": {
      "text/plain": [
       "'this is my first class'"
      ]
     },
     "execution_count": 10,
     "metadata": {},
     "output_type": "execute_result"
    }
   ],
   "source": [
    "\"\"\"Inheritance is a process of obtaining properties and characteristics(variables and methods) of another class. In this hierarchical order, the class which inherits another class is called subclass or child class, and the other class is the parent class.\"\"\"\n",
    "# Single Inheritance\n",
    "class test:\n",
    "    \n",
    "    def test_meth(self):\n",
    "        return \"this is my first class\"\n",
    "class child_test(test):\n",
    "    pass\n",
    "child_test_obj=child_test()\n",
    "child_test_obj.test_meth()\n",
    "\n"
   ]
  },
  {
   "cell_type": "code",
   "execution_count": 12,
   "id": "38f06ff3-aeba-405a-9d4f-a8b250667c77",
   "metadata": {},
   "outputs": [
    {
     "data": {
      "text/plain": [
       "'this is my class method 2'"
      ]
     },
     "execution_count": 12,
     "metadata": {},
     "output_type": "execute_result"
    }
   ],
   "source": [
    "#MULTI-LEVEL INHERITANCE\n",
    "class class1:\n",
    "    \n",
    "    def class_test1(self):\n",
    "        return \"this is class method 1\"\n",
    "class class2(class1):\n",
    "    \n",
    "    def class_test2(self):\n",
    "        return \"this is my class method 2\"\n",
    "class class3(class2):\n",
    "    pass\n",
    "class3_obj=class3()\n",
    "class3_obj.class_test2() #Direct inheritance\n"
   ]
  },
  {
   "cell_type": "code",
   "execution_count": 11,
   "id": "7ef32f3d-5c25-4478-bc49-281876338412",
   "metadata": {},
   "outputs": [
    {
     "data": {
      "text/plain": [
       "'this is class method 1'"
      ]
     },
     "execution_count": 11,
     "metadata": {},
     "output_type": "execute_result"
    }
   ],
   "source": [
    "class3_obj.class_test1() #Multi-level inheritance"
   ]
  },
  {
   "cell_type": "code",
   "execution_count": null,
   "id": "cd93dac9-4679-48b5-bd29-9c673f9adfc3",
   "metadata": {},
   "outputs": [],
   "source": [
    "# MULTIPLE INHERITANCE"
   ]
  },
  {
   "cell_type": "code",
   "execution_count": 13,
   "id": "f553e9fd-5bea-4d03-aa0b-f9a2067f4617",
   "metadata": {},
   "outputs": [
    {
     "data": {
      "text/plain": [
       "'this is my class method 2'"
      ]
     },
     "execution_count": 13,
     "metadata": {},
     "output_type": "execute_result"
    }
   ],
   "source": [
    "class class11:\n",
    "    \n",
    "    def class_test1(self):\n",
    "        return \"this is class method 1\"\n",
    "class class12(class1):\n",
    "    \n",
    "    def class_test2(self):\n",
    "        return \"this is my class method 2\"\n",
    "class class13(class11, class12):\n",
    "    pass\n",
    "class13_obj=class13()\n",
    "class13_obj.class_test2() \n"
   ]
  },
  {
   "cell_type": "code",
   "execution_count": 14,
   "id": "6e19c04c-bbec-4068-92af-dc045c88f584",
   "metadata": {},
   "outputs": [
    {
     "data": {
      "text/plain": [
       "'this is class method 1'"
      ]
     },
     "execution_count": 14,
     "metadata": {},
     "output_type": "execute_result"
    }
   ],
   "source": [
    "class13_obj.class_test1() "
   ]
  },
  {
   "cell_type": "code",
   "execution_count": null,
   "id": "d25e83e9-0ace-4398-9de1-cb16271eeb56",
   "metadata": {},
   "outputs": [],
   "source": []
  },
  {
   "cell_type": "code",
   "execution_count": null,
   "id": "a9204823-b312-41ad-9102-549595f3fc5f",
   "metadata": {},
   "outputs": [],
   "source": []
  },
  {
   "cell_type": "code",
   "execution_count": null,
   "id": "835719f5-5183-45ef-b9d7-6fadbc94eddb",
   "metadata": {},
   "outputs": [],
   "source": []
  },
  {
   "cell_type": "code",
   "execution_count": null,
   "id": "ff8de3a7-86b5-4729-9941-09546338bdfa",
   "metadata": {},
   "outputs": [],
   "source": []
  },
  {
   "cell_type": "code",
   "execution_count": null,
   "id": "c789fe5f-cc31-4d8d-8c47-9d1c6a34309d",
   "metadata": {},
   "outputs": [],
   "source": []
  },
  {
   "cell_type": "code",
   "execution_count": null,
   "id": "7639f6b7-0a92-4035-811c-794a94fac246",
   "metadata": {},
   "outputs": [],
   "source": []
  },
  {
   "cell_type": "code",
   "execution_count": null,
   "id": "369374dd-b6c6-4777-938a-195665a7b499",
   "metadata": {},
   "outputs": [],
   "source": []
  },
  {
   "cell_type": "code",
   "execution_count": null,
   "id": "3ee93be9-2701-4d1a-9ee1-747413dd7933",
   "metadata": {},
   "outputs": [],
   "source": []
  },
  {
   "cell_type": "code",
   "execution_count": null,
   "id": "5aa4eeb2-0ca1-4e4d-b6ff-81a50df11c50",
   "metadata": {},
   "outputs": [],
   "source": []
  },
  {
   "cell_type": "code",
   "execution_count": null,
   "id": "9c822140-37a1-40d3-889c-06ca85315de1",
   "metadata": {},
   "outputs": [],
   "source": []
  },
  {
   "cell_type": "code",
   "execution_count": null,
   "id": "bc75a9d0-0a0b-42f5-bae5-a34753ecd393",
   "metadata": {},
   "outputs": [],
   "source": []
  },
  {
   "cell_type": "code",
   "execution_count": null,
   "id": "93a653cd-f6f7-4180-99c8-10c0b7367ab9",
   "metadata": {},
   "outputs": [],
   "source": []
  },
  {
   "cell_type": "code",
   "execution_count": null,
   "id": "916fbe98-dd9a-47ce-8074-918471d17c6f",
   "metadata": {},
   "outputs": [],
   "source": []
  },
  {
   "cell_type": "code",
   "execution_count": null,
   "id": "be2af458-caab-4a27-95d9-38a47171e638",
   "metadata": {},
   "outputs": [],
   "source": []
  },
  {
   "cell_type": "code",
   "execution_count": null,
   "id": "677d9ffe-d436-4a94-85a9-5fd118599d78",
   "metadata": {},
   "outputs": [],
   "source": []
  },
  {
   "cell_type": "code",
   "execution_count": null,
   "id": "a94942f5-d288-47a4-8d89-6ab36538e440",
   "metadata": {},
   "outputs": [],
   "source": []
  }
 ],
 "metadata": {
  "kernelspec": {
   "display_name": "Python 3 (ipykernel)",
   "language": "python",
   "name": "python3"
  },
  "language_info": {
   "codemirror_mode": {
    "name": "ipython",
    "version": 3
   },
   "file_extension": ".py",
   "mimetype": "text/x-python",
   "name": "python",
   "nbconvert_exporter": "python",
   "pygments_lexer": "ipython3",
   "version": "3.10.8"
  }
 },
 "nbformat": 4,
 "nbformat_minor": 5
}
