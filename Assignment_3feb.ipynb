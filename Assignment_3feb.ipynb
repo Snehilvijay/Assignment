{
 "cells": [
  {
   "cell_type": "code",
   "execution_count": null,
   "id": "261097d7-f6e3-4d6d-b2c9-3687f1e47b73",
   "metadata": {},
   "outputs": [],
   "source": [
    "#Q1. Which keyword is used to create a function? Create a function to return a list of odd numbers in the range of 1 to 25."
   ]
  },
  {
   "cell_type": "code",
   "execution_count": 2,
   "id": "1af31969-865a-4134-b8ae-7163c95db350",
   "metadata": {},
   "outputs": [
    {
     "data": {
      "text/plain": [
       "[1, 3, 5, 7, 9, 11, 13, 15, 17, 19, 21, 23, 25]"
      ]
     },
     "execution_count": 2,
     "metadata": {},
     "output_type": "execute_result"
    }
   ],
   "source": [
    "\"\"\"Ans: Def keyword is used to define a function\"\"\"\n",
    "def odd_list():\n",
    "    odd_num=[]\n",
    "    for i in range(26):\n",
    "        if i%2!=0:\n",
    "            odd_num.append(i)\n",
    "    return odd_num\n",
    "odd_list()\n"
   ]
  },
  {
   "cell_type": "code",
   "execution_count": null,
   "id": "e4c1c187-a7c5-40b9-add0-78589a5809f9",
   "metadata": {},
   "outputs": [],
   "source": [
    "#Q2. Why *args and **kwargs is used in some functions? Create a function each for *args and **kwargs to demonstrate their use."
   ]
  },
  {
   "cell_type": "code",
   "execution_count": 3,
   "id": "dcd45e7b-b455-4cf4-992a-e5a30f8b2626",
   "metadata": {},
   "outputs": [
    {
     "name": "stdout",
     "output_type": "stream",
     "text": [
      "3\n",
      "6\n"
     ]
    }
   ],
   "source": [
    "\"\"\" Ans: *args is used in some function when we are not sure about the number of arguments to be passed in function.\n",
    "**kwargs is used in some fuction as it allows us to give key value pair as argumentin function.\n",
    "Example: \"\"\"\n",
    "def add(*args):\n",
    "    total = 0\n",
    "    for i in args:\n",
    "        total += i\n",
    "    return total\n",
    "\n",
    "\n",
    "print(add(1,2))\n",
    "print(add(1, 2, 3))"
   ]
  },
  {
   "cell_type": "code",
   "execution_count": 6,
   "id": "15c8dd98-0361-40d9-8f97-43598455cb0f",
   "metadata": {},
   "outputs": [
    {
     "name": "stdout",
     "output_type": "stream",
     "text": [
      "20\n",
      "30\n"
     ]
    }
   ],
   "source": [
    "#example for **kwargs\n",
    "def total_marks(**kwargs):\n",
    "    total = 0\n",
    "    for i in kwargs.values():\n",
    "        total += i\n",
    "    return total\n",
    "\n",
    "\n",
    "print(total_marks(snehil=5, vijay=7, vargiya=8))\n",
    "print(total_marks(snehil=5, vijay=7, vargiya=8, kumar=10))"
   ]
  },
  {
   "cell_type": "code",
   "execution_count": null,
   "id": "3b25ed6a-4598-4f82-850c-88fec5b716e7",
   "metadata": {},
   "outputs": [],
   "source": [
    "#Q3. What is an iterator in python? Name the method used to initialise the iterator object and the method used for iteration. \n",
    "#Use these methods to print the first five elements of the given list [2, 4, 6, 8, 10, 12, 14, 16, 18, 20]."
   ]
  },
  {
   "cell_type": "code",
   "execution_count": 7,
   "id": "876933f3-f440-4913-aa70-be8678a695db",
   "metadata": {},
   "outputs": [
    {
     "name": "stdout",
     "output_type": "stream",
     "text": [
      "2\n",
      "4\n",
      "6\n",
      "8\n",
      "10\n"
     ]
    }
   ],
   "source": [
    "\"\"\"Ans: Iterator in Python is an object that is used to iterate over iterable objects like lists, tuples, dicts, and sets. The iterator object is initialized using the iter() method. It uses the next() method for iteration\"\"\"\n",
    "list1=[2, 4, 6, 8, 10, 12, 14, 16, 18, 20]\n",
    "list2=iter(list1)\n",
    "for i in range(5):\n",
    "    print(next(list2))"
   ]
  },
  {
   "cell_type": "code",
   "execution_count": null,
   "id": "a9a63303-bc8f-4358-8c2e-92e4a73f9082",
   "metadata": {},
   "outputs": [],
   "source": [
    "#Q4. What is a generator function in python? Why yield keyword is used? Give an example of a generator function."
   ]
  },
  {
   "cell_type": "code",
   "execution_count": 9,
   "id": "8aa6e2ac-215e-43f3-8ba2-b0f92243a850",
   "metadata": {},
   "outputs": [
    {
     "name": "stdout",
     "output_type": "stream",
     "text": [
      "2\n",
      "4\n",
      "6\n",
      "8\n",
      "10\n"
     ]
    }
   ],
   "source": [
    "\"\"\"\"Ans: a generator is a function that returns an iterator that produces a sequence of values when iterated over. Generators are useful when we want to produce a large sequence of values, but we don't want to store all of them in memory at once.\n",
    "The yield keyword in Python controls the flow of a generator function. This is similar to a return statement used for returning values in Python\"\"\"\n",
    "def even1(n):\n",
    "    a=1\n",
    "    while a<=n:\n",
    "        a+=1\n",
    "        if a%2==0:\n",
    "            yield a\n",
    "even=even1(10)\n",
    "for i in even:\n",
    "    print(i)"
   ]
  },
  {
   "cell_type": "code",
   "execution_count": null,
   "id": "1e4de8d7-55ea-4a76-8698-7b06eadc49c6",
   "metadata": {},
   "outputs": [],
   "source": [
    "#Q5. Create a generator function for prime numbers less than 1000. Use the next() method to print the first 20 prime numbers."
   ]
  },
  {
   "cell_type": "code",
   "execution_count": 1,
   "id": "3a0c4b96-b87b-4423-8c96-a35d96fcd170",
   "metadata": {},
   "outputs": [
    {
     "name": "stdout",
     "output_type": "stream",
     "text": [
      "2\n",
      "3\n",
      "5\n",
      "7\n",
      "11\n",
      "13\n",
      "17\n",
      "19\n",
      "23\n",
      "29\n",
      "31\n",
      "37\n",
      "41\n",
      "43\n",
      "47\n",
      "53\n",
      "59\n",
      "61\n",
      "67\n",
      "71\n"
     ]
    }
   ],
   "source": [
    "def prime_num(n):\n",
    "    for i in range (2,n+1):\n",
    "        if i<=2:\n",
    "            yield 2\n",
    "        else:\n",
    "            for j in range (2,i):\n",
    "                if int(i)%j==0:\n",
    "                    break\n",
    "            if j+1==int(i):\n",
    "                yield i\n",
    "prime_num=prime_num(1000)\n",
    "for k in range(20):\n",
    "    print(next(prime_num))\n",
    "            "
   ]
  },
  {
   "cell_type": "code",
   "execution_count": null,
   "id": "76971373-4255-4902-b027-a5f2f0eb833d",
   "metadata": {},
   "outputs": [],
   "source": [
    "#Q6. Write a python program to print the first 10 Fibonacci numbers using a while loop."
   ]
  },
  {
   "cell_type": "code",
   "execution_count": 4,
   "id": "2368229c-bba3-4910-822a-b4003c34b80c",
   "metadata": {},
   "outputs": [
    {
     "name": "stdout",
     "output_type": "stream",
     "text": [
      "0\n",
      "1\n",
      "1\n",
      "2\n",
      "3\n",
      "5\n",
      "8\n",
      "13\n",
      "21\n",
      "34\n"
     ]
    }
   ],
   "source": [
    "def febu(n):\n",
    "    a,b=0,1\n",
    "    i=1\n",
    "    while i<=n:\n",
    "        print(a)\n",
    "        c=a+b\n",
    "        a=b\n",
    "        b=c\n",
    "        i+=1\n",
    "febu(10)"
   ]
  },
  {
   "cell_type": "code",
   "execution_count": null,
   "id": "72c821a0-5985-48b5-b0f6-04ff6089a555",
   "metadata": {},
   "outputs": [],
   "source": [
    "#Q7. Write a List Comprehension to iterate through the given string: ‘pwskills’. Expected output: ['p', 'w', 's', 'k', 'i', 'l', 'l', 's']"
   ]
  },
  {
   "cell_type": "code",
   "execution_count": 5,
   "id": "b23bd0b8-31c7-4726-bb0a-7a537838f4b8",
   "metadata": {},
   "outputs": [
    {
     "data": {
      "text/plain": [
       "['p', 'w', 's', 'k', 'i', 'l', 'l', 's']"
      ]
     },
     "execution_count": 5,
     "metadata": {},
     "output_type": "execute_result"
    }
   ],
   "source": [
    "s='pwskills'\n",
    "[i for i in s]"
   ]
  },
  {
   "cell_type": "code",
   "execution_count": null,
   "id": "03094d5b-3432-4849-be33-b3ab576bdd12",
   "metadata": {},
   "outputs": [],
   "source": [
    "#Q8. Write a python program to check whether a given number is Palindrome or not using a while loop."
   ]
  },
  {
   "cell_type": "code",
   "execution_count": 14,
   "id": "86c6e698-0992-49ec-9218-91d5c9488001",
   "metadata": {},
   "outputs": [
    {
     "name": "stdin",
     "output_type": "stream",
     "text": [
      "enter any number:  1234\n"
     ]
    },
    {
     "name": "stdout",
     "output_type": "stream",
     "text": [
      "not\n"
     ]
    }
   ],
   "source": [
    "num=input(\"enter any number: \")\n",
    "num1=''\n",
    "i=0\n",
    "while i < (len(num)):\n",
    "    num1+=num[-(i+1)]\n",
    "    i+=1\n",
    "if num==num1:\n",
    "    print(\"palindrome\")\n",
    "else:\n",
    "    print(\"not palindrome\")"
   ]
  },
  {
   "cell_type": "code",
   "execution_count": null,
   "id": "78a860c3-c867-46d3-be2b-d8fe493f3140",
   "metadata": {},
   "outputs": [],
   "source": [
    "#Q9. Write a code to print odd numbers from 1 to 100 using list comprehension.\n",
    "#Note: Use a list comprehension to create a list from 1 to 100 and use another List comprehension to filter out odd numbers."
   ]
  },
  {
   "cell_type": "code",
   "execution_count": 15,
   "id": "1db12058-04c6-4a6d-9723-33ee9751bc25",
   "metadata": {},
   "outputs": [
    {
     "data": {
      "text/plain": [
       "[1,\n",
       " 3,\n",
       " 5,\n",
       " 7,\n",
       " 9,\n",
       " 11,\n",
       " 13,\n",
       " 15,\n",
       " 17,\n",
       " 19,\n",
       " 21,\n",
       " 23,\n",
       " 25,\n",
       " 27,\n",
       " 29,\n",
       " 31,\n",
       " 33,\n",
       " 35,\n",
       " 37,\n",
       " 39,\n",
       " 41,\n",
       " 43,\n",
       " 45,\n",
       " 47,\n",
       " 49,\n",
       " 51,\n",
       " 53,\n",
       " 55,\n",
       " 57,\n",
       " 59,\n",
       " 61,\n",
       " 63,\n",
       " 65,\n",
       " 67,\n",
       " 69,\n",
       " 71,\n",
       " 73,\n",
       " 75,\n",
       " 77,\n",
       " 79,\n",
       " 81,\n",
       " 83,\n",
       " 85,\n",
       " 87,\n",
       " 89,\n",
       " 91,\n",
       " 93,\n",
       " 95,\n",
       " 97,\n",
       " 99]"
      ]
     },
     "execution_count": 15,
     "metadata": {},
     "output_type": "execute_result"
    }
   ],
   "source": [
    "[i for i in range(101) if i%2!=0]"
   ]
  },
  {
   "cell_type": "code",
   "execution_count": 16,
   "id": "78a28384-3c81-488c-903b-f1c0f8c2c2bf",
   "metadata": {},
   "outputs": [
    {
     "data": {
      "text/plain": [
       "[1,\n",
       " 3,\n",
       " 5,\n",
       " 7,\n",
       " 9,\n",
       " 11,\n",
       " 13,\n",
       " 15,\n",
       " 17,\n",
       " 19,\n",
       " 21,\n",
       " 23,\n",
       " 25,\n",
       " 27,\n",
       " 29,\n",
       " 31,\n",
       " 33,\n",
       " 35,\n",
       " 37,\n",
       " 39,\n",
       " 41,\n",
       " 43,\n",
       " 45,\n",
       " 47,\n",
       " 49,\n",
       " 51,\n",
       " 53,\n",
       " 55,\n",
       " 57,\n",
       " 59,\n",
       " 61,\n",
       " 63,\n",
       " 65,\n",
       " 67,\n",
       " 69,\n",
       " 71,\n",
       " 73,\n",
       " 75,\n",
       " 77,\n",
       " 79,\n",
       " 81,\n",
       " 83,\n",
       " 85,\n",
       " 87,\n",
       " 89,\n",
       " 91,\n",
       " 93,\n",
       " 95,\n",
       " 97,\n",
       " 99]"
      ]
     },
     "execution_count": 16,
     "metadata": {},
     "output_type": "execute_result"
    }
   ],
   "source": [
    "l1=range(100)\n",
    "list(filter(lambda x:x%2!=0,l1))"
   ]
  },
  {
   "cell_type": "code",
   "execution_count": null,
   "id": "00b7eae3-af55-4407-b36b-3ac98dd46e4b",
   "metadata": {},
   "outputs": [],
   "source": []
  },
  {
   "cell_type": "code",
   "execution_count": null,
   "id": "2143add9-4365-42f0-860a-88d781b0bccb",
   "metadata": {},
   "outputs": [],
   "source": []
  },
  {
   "cell_type": "code",
   "execution_count": null,
   "id": "f5ec8c6b-1f7d-4548-be21-39ddbd5d27f8",
   "metadata": {},
   "outputs": [],
   "source": []
  },
  {
   "cell_type": "code",
   "execution_count": null,
   "id": "c21fd94b-ba61-4026-9a7a-f75d0440da46",
   "metadata": {},
   "outputs": [],
   "source": []
  },
  {
   "cell_type": "code",
   "execution_count": null,
   "id": "880b8ab0-a2fd-4d11-a787-0defe69d4917",
   "metadata": {},
   "outputs": [],
   "source": []
  }
 ],
 "metadata": {
  "kernelspec": {
   "display_name": "Python 3 (ipykernel)",
   "language": "python",
   "name": "python3"
  },
  "language_info": {
   "codemirror_mode": {
    "name": "ipython",
    "version": 3
   },
   "file_extension": ".py",
   "mimetype": "text/x-python",
   "name": "python",
   "nbconvert_exporter": "python",
   "pygments_lexer": "ipython3",
   "version": "3.10.8"
  }
 },
 "nbformat": 4,
 "nbformat_minor": 5
}
