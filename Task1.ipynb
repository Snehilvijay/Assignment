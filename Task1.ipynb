{
 "cells": [
  {
   "cell_type": "code",
   "execution_count": null,
   "id": "05c923c0-2128-4520-83fa-00b826220d2b",
   "metadata": {},
   "outputs": [],
   "source": [
    "# Q1. Create a function which will take a list as an argument and return the product of all the numbers after creating a flat list. \n",
    "#Use the below-given list as an argument for your function.\n",
    "#list1 = [1,2,3,4, [44,55,66, True], False, (34,56,78,89,34), {1,2,3,3,2,1}, {1:34, \"key2\": [55, 67, 78, 89], 4: (45,22, 61, 34)}, [56, 'data science'], 'Machine Learning']"
   ]
  },
  {
   "cell_type": "code",
   "execution_count": 16,
   "id": "5b45d2ef-86f0-456c-8787-c621bd107504",
   "metadata": {},
   "outputs": [],
   "source": [
    "def multp(l):\n",
    "    product=[]\n",
    "    for i in l:\n",
    "        if type(i)==int:\n",
    "            product.append(i)\n",
    "        \n",
    "        elif type(i)==dict:\n",
    "            for j in list(i.items()):\n",
    "                for m in j:\n",
    "                    if type(m)==int:\n",
    "                        product.append(m)\n",
    "                    else:\n",
    "                        for n in m:\n",
    "                            if type(n)==int:\n",
    "                                product.append(n)\n",
    "        \n",
    "        elif type(i)==set:\n",
    "            for o in list(i):\n",
    "                if type(o)==int:\n",
    "                    product.append(o)\n",
    "                        \n",
    "        else:\n",
    "            if type(i)!=bool:\n",
    "                for j in i:\n",
    "                    if type(j)==int:\n",
    "                        product.append(j)\n",
    "    return product\n",
    "                    \n",
    "        "
   ]
  },
  {
   "cell_type": "code",
   "execution_count": 14,
   "id": "1516f68b-22e2-4f43-80f2-205bb52fa05d",
   "metadata": {},
   "outputs": [],
   "source": [
    "list1 = [1,2,3,4, [44,55,66, True], False, (34,56,78,89,34), {1,2,3,3,2,1}, {1:34, \"key2\": [55, 67, 78, 89], 4: (45,22, 61, 34)}, [56, 'data science'], 'Machine Learning']"
   ]
  },
  {
   "cell_type": "code",
   "execution_count": 17,
   "id": "2e3e8575-9ad9-4e06-913c-bd2f84974dc9",
   "metadata": {},
   "outputs": [
    {
     "data": {
      "text/plain": [
       "[1,\n",
       " 2,\n",
       " 3,\n",
       " 4,\n",
       " 44,\n",
       " 55,\n",
       " 66,\n",
       " 34,\n",
       " 56,\n",
       " 78,\n",
       " 89,\n",
       " 34,\n",
       " 1,\n",
       " 2,\n",
       " 3,\n",
       " 1,\n",
       " 34,\n",
       " 55,\n",
       " 67,\n",
       " 78,\n",
       " 89,\n",
       " 4,\n",
       " 45,\n",
       " 22,\n",
       " 61,\n",
       " 34,\n",
       " 56]"
      ]
     },
     "execution_count": 17,
     "metadata": {},
     "output_type": "execute_result"
    }
   ],
   "source": [
    "multp(list1)"
   ]
  },
  {
   "cell_type": "code",
   "execution_count": null,
   "id": "c7d3ced2-00fc-495f-93ca-298f8573e84e",
   "metadata": {},
   "outputs": [],
   "source": [
    "\"\"\"Q2. Write a python program for encrypting a message sent to you by your friend. The logic of encryption\n",
    "should be such that, for a the output should be z. For b, the output should be y. For c, the output should\n",
    "be x respectively. Also, the whitespace should be replaced with a dollar sign. Keep the punctuation\n",
    "marks unchanged.\n",
    "Input Sentence: I want to become a Data Scientist.\"\"\""
   ]
  },
  {
   "cell_type": "code",
   "execution_count": 33,
   "id": "1e4e2829-bf20-498e-ba5b-7e87d68a6455",
   "metadata": {},
   "outputs": [
    {
     "data": {
      "text/plain": [
       "'r$dzmg$gl$yvxlnv$z$wzgz$hxrvmgrhg'"
      ]
     },
     "execution_count": 33,
     "metadata": {},
     "output_type": "execute_result"
    }
   ],
   "source": [
    "s=\"I want to become a Data Scientist\"\n",
    "s_new=\"\"\n",
    "\n",
    "alphabet=['a','b','c','d','e','f','g','h','i','j','k','l','m','n','o','p','q','r','s','t','u','v','w','x','y','z']\n",
    "for i in s.lower():\n",
    "    if i==' ':\n",
    "        i='$'\n",
    "        s_new+=i\n",
    "    else:\n",
    "        for j in range(len(alphabet)):\n",
    "            if alphabet[j]==i:\n",
    "                i=alphabet[-(j+1)]\n",
    "                s_new+=i\n",
    "                break\n",
    "s_new"
   ]
  },
  {
   "cell_type": "code",
   "execution_count": null,
   "id": "14035e06-9ec7-4251-abbb-b440428771a5",
   "metadata": {},
   "outputs": [],
   "source": []
  },
  {
   "cell_type": "code",
   "execution_count": null,
   "id": "78588dae-0ac7-4428-9f32-e82f046227da",
   "metadata": {},
   "outputs": [],
   "source": []
  },
  {
   "cell_type": "code",
   "execution_count": null,
   "id": "a351cc40-bdcd-4b5c-bc35-f4b0da5785c9",
   "metadata": {},
   "outputs": [],
   "source": []
  }
 ],
 "metadata": {
  "kernelspec": {
   "display_name": "Python 3 (ipykernel)",
   "language": "python",
   "name": "python3"
  },
  "language_info": {
   "codemirror_mode": {
    "name": "ipython",
    "version": 3
   },
   "file_extension": ".py",
   "mimetype": "text/x-python",
   "name": "python",
   "nbconvert_exporter": "python",
   "pygments_lexer": "ipython3",
   "version": "3.10.8"
  }
 },
 "nbformat": 4,
 "nbformat_minor": 5
}
